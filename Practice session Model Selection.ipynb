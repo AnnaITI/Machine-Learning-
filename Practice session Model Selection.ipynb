{
 "cells": [
  {
   "cell_type": "markdown",
   "metadata": {},
   "source": [
    "# 1. Splice Classification"
   ]
  },
  {
   "cell_type": "markdown",
   "metadata": {},
   "source": [
    "Splice junctions are points on a DNA sequence at which ‘superfluous’ DNA is removed\n",
    "during the process of protein creation in higher organisms. The problem we aim to solve is\n",
    "to recognize, given a sequence of DNA, the boundaries between exons (the parts of the DNA\n",
    "sequence retained after splicing) and introns (the parts of the DNA sequence that are spliced\n",
    "out). For more details see UCI\n",
    "and DELVE site.\n",
    "\n",
    "1. Load the dataset splice."
   ]
  },
  {
   "cell_type": "code",
   "execution_count": 3,
   "metadata": {},
   "outputs": [
    {
     "data": {
      "text/plain": [
       "((1000, 60), array([-1.,  1.]))"
      ]
     },
     "execution_count": 3,
     "metadata": {},
     "output_type": "execute_result"
    }
   ],
   "source": [
    "from sklearn.datasets import load_svmlight_file\n",
    "import numpy as np\n",
    "\n",
    "X, Y = load_svmlight_file(\"./splice\")\n",
    "X.shape, np.unique(Y)"
   ]
  },
  {
   "cell_type": "markdown",
   "metadata": {},
   "source": [
    "The data has 60000 samples and 2 features"
   ]
  },
  {
   "cell_type": "markdown",
   "metadata": {},
   "source": [
    "3. Build two large logarithmic grids of size 25 for the kernel parameter γ in the range 10 −3 to\n",
    "1 and for C in the interval 10 −1/2 to 10 2"
   ]
  },
  {
   "cell_type": "code",
   "execution_count": 2,
   "metadata": {},
   "outputs": [
    {
     "data": {
      "text/plain": [
       "(array([0.001     , 0.00133352, 0.00177828, 0.00237137, 0.00316228,\n",
       "        0.00421697, 0.00562341, 0.00749894, 0.01      , 0.01333521,\n",
       "        0.01778279, 0.02371374, 0.03162278, 0.04216965, 0.05623413,\n",
       "        0.07498942, 0.1       , 0.13335214, 0.17782794, 0.23713737,\n",
       "        0.31622777, 0.4216965 , 0.56234133, 0.74989421, 1.        ]),\n",
       " array([  0.31622777,   0.40194503,   0.51089698,   0.64938163,\n",
       "          0.82540419,   1.04913973,   1.33352143,   1.69498815,\n",
       "          2.15443469,   2.73841963,   3.48070059,   4.42418555,\n",
       "          5.62341325,   7.14770577,   9.08517576,  11.54781985,\n",
       "         14.67799268,  18.65663579,  23.71373706,  30.1416253 ,\n",
       "         38.3118685 ,  48.69675252,  61.89658189,  78.67438077,\n",
       "        100.        ]))"
      ]
     },
     "execution_count": 2,
     "metadata": {},
     "output_type": "execute_result"
    }
   ],
   "source": [
    "gamma_grid = np.logspace(-3, 0, 25) \n",
    "C_grid = np.logspace(-0.5,2,25)\n",
    "\n",
    "gamma_grid,C_grid"
   ]
  },
  {
   "cell_type": "markdown",
   "metadata": {},
   "source": [
    "4. To select the best model we will perform a grid search over the previously defined grids\n",
    "using GridSearchCV function of Scikit-Learn. First let set up the classifier and the grid\n",
    "search module. The best model will be selected based on the accuracy performance and\n",
    "K-fold validation (feel free to adapt the value of K).\n",
    "\n",
    "\n",
    "After that the best model is learned"
   ]
  },
  {
   "cell_type": "code",
   "execution_count": 3,
   "metadata": {},
   "outputs": [
    {
     "name": "stdout",
     "output_type": "stream",
     "text": [
      "Fitting 3 folds for each of 625 candidates, totalling 1875 fits\n"
     ]
    },
    {
     "data": {
      "text/plain": [
       "GridSearchCV(cv=3, estimator=SVC(tol=0.01), n_jobs=2,\n",
       "             param_grid=[{'C': array([  0.31622777,   0.40194503,   0.51089698,   0.64938163,\n",
       "         0.82540419,   1.04913973,   1.33352143,   1.69498815,\n",
       "         2.15443469,   2.73841963,   3.48070059,   4.42418555,\n",
       "         5.62341325,   7.14770577,   9.08517576,  11.54781985,\n",
       "        14.67799268,  18.65663579,  23.71373706,  30.1416253 ,\n",
       "        38.3118685 ,  48.69675252,  61.89658189,  78.67438077,\n",
       "       100.        ]),\n",
       "                          'gamma': array([0.001     , 0.00133352, 0.00177828, 0.00237137, 0.00316228,\n",
       "       0.00421697, 0.00562341, 0.00749894, 0.01      , 0.01333521,\n",
       "       0.01778279, 0.02371374, 0.03162278, 0.04216965, 0.05623413,\n",
       "       0.07498942, 0.1       , 0.13335214, 0.17782794, 0.23713737,\n",
       "       0.31622777, 0.4216965 , 0.56234133, 0.74989421, 1.        ])}],\n",
       "             scoring='accuracy', verbose=1)"
      ]
     },
     "execution_count": 3,
     "metadata": {},
     "output_type": "execute_result"
    }
   ],
   "source": [
    "from sklearn.model_selection import GridSearchCV\n",
    "from sklearn.svm import SVC\n",
    "\n",
    "# the grid\n",
    "parameters = [{\"gamma\": gamma_grid, \"C\": C_grid}]\n",
    "\n",
    "# the classifier\n",
    "clf_rbf = SVC(kernel=\"rbf\", tol=0.01)\n",
    "\n",
    "# Perf a K-fold validation using the accuracy as the performance measure\n",
    "K = 3\n",
    "# we will dot it on a grid search using n_jobs processors\n",
    "clf_rbf = GridSearchCV(clf_rbf, param_grid=parameters, cv=K, scoring=\"accuracy\", verbose=1, n_jobs = 2)\n",
    "\n",
    "clf_rbf.fit(X,Y)"
   ]
  },
  {
   "cell_type": "markdown",
   "metadata": {},
   "source": [
    "5. Let check the best selected hyper-parameters, the corresponding accuracy and the validation\n",
    "performance graphic along the grid. Is the figure in accordance with the chosen hyper-\n",
    "parameters ?"
   ]
  },
  {
   "cell_type": "code",
   "execution_count": 4,
   "metadata": {
    "scrolled": true
   },
   "outputs": [
    {
     "name": "stdout",
     "output_type": "stream",
     "text": [
      "\n",
      " Rbf kernel - optimal hyper-parameters = {'C': 4.424185553847919, 'gamma': 0.01333521432163324}\n",
      "\n",
      " Rbf kernel - best cross-val accuracy = 0.8740327153500806\n"
     ]
    },
    {
     "data": {
      "image/png": "[encoded data removed]",
      "text/plain": [
       "<Figure size 432x288 with 2 Axes>"
      ]
     },
     "metadata": {
      "needs_background": "light"
     },
     "output_type": "display_data"
    }
   ],
   "source": [
    "# Get the best parameters\n",
    "print(\"\\n Rbf kernel - optimal hyper-parameters = {}\".format(clf_rbf.best_params_))\n",
    "print(\"\\n Rbf kernel - best cross-val accuracy = {}\".format(clf_rbf.best_score_))\n",
    "\n",
    "\n",
    "## Plot the validation performance w.r.t. C and gamma\n",
    "import matplotlib.pyplot as plt\n",
    "plt.imshow(clf_rbf.cv_results_[\"mean_test_score\"].reshape(gamma_grid.shape[0],C_grid.shape[0]), extent=[min(gamma_grid),max(gamma_grid),min(C_grid),max(C_grid)],interpolation=\"bicubic\",aspect=\"auto\")\n",
    "plt.colorbar()\n",
    "plt.show()"
   ]
  },
  {
   "cell_type": "markdown",
   "metadata": {},
   "source": [
    "6. At this stage, ask for the test set. Load it as in question 1. Compute the prediction accuracy\n",
    "on the test set. Compute and plot the confusion matrix. Comment on the obtained results\n",
    "Hint : refer to the documentation of confusion matrix for more details."
   ]
  },
  {
   "cell_type": "code",
   "execution_count": 6,
   "metadata": {},
   "outputs": [
    {
     "name": "stdout",
     "output_type": "stream",
     "text": [
      "Fitting 3 folds for each of 625 candidates, totalling 1875 fits\n"
     ]
    },
    {
     "data": {
      "text/plain": [
       "GridSearchCV(cv=3, estimator=SVC(tol=0.01), n_jobs=2,\n",
       "             param_grid={'C': array([2.73841963, 2.92213989, 3.10586015, 3.2895804 , 3.47330066,\n",
       "       3.65702091, 3.84074117, 4.02446142, 4.20818168, 4.39190193,\n",
       "       4.57562219, 4.75934245, 4.9430627 , 5.12678296, 5.31050321,\n",
       "       5.49422347, 5.67794372, 5.86166398, 6.04538423, 6.22910449,\n",
       "       6.41282475, 6.596545  , 6.78026526, 6.96398551, 7.14770577]),\n",
       "                         'gamma': array([0.00749894, 0.00817456, 0.00885018, 0.00952579, 0.01020141,\n",
       "       0.01087702, 0.01155264, 0.01222826, 0.01290387, 0.01357949,\n",
       "       0.01425511, 0.01493072, 0.01560634, 0.01628196, 0.01695757,\n",
       "       0.01763319, 0.01830881, 0.01898442, 0.01966004, 0.02033565,\n",
       "       0.02101127, 0.02168689, 0.0223625 , 0.02303812, 0.02371374])},\n",
       "             scoring='accuracy', verbose=1)"
      ]
     },
     "execution_count": 6,
     "metadata": {},
     "output_type": "execute_result"
    }
   ],
   "source": [
    "\n",
    "index_C = C_grid.tolist().index(clf_rbf.best_params_[\"C\"])\n",
    "index_gamma = gamma_grid.tolist().index(clf_rbf.best_params_[\"gamma\"])\n",
    "\n",
    "gamma_grid_optim = np.linspace(gamma_grid[index_gamma-2],gamma_grid[index_gamma+2],25)\n",
    "c_grid_optim = np.linspace(C_grid[index_C-2],C_grid[index_C+2],25)\n",
    "\n",
    "parameters_optim = {\"gamma\":gamma_grid_optim, \"C\": c_grid_optim}\n",
    "\n",
    "clf_rbf_optim = SVC(kernel=\"rbf\", tol=0.01)\n",
    "clf_rbf_optim = GridSearchCV(clf_rbf_optim, param_grid=parameters_optim, cv=K, scoring=\"accuracy\", verbose=1, n_jobs = 2)\n",
    "\n",
    "clf_rbf_optim.fit(X,Y)"
   ]
  },
  {
   "cell_type": "code",
   "execution_count": 10,
   "metadata": {},
   "outputs": [
    {
     "data": {
      "text/plain": [
       "((2175, 60), (2175,))"
      ]
     },
     "execution_count": 10,
     "metadata": {},
     "output_type": "execute_result"
    }
   ],
   "source": [
    "from sklearn.metrics import confusion_matrix, accuracy_score\n",
    "\n",
    "Xtest, Ytest = load_svmlight_file(\"./splice.t\")\n",
    "Xtest.shape,Ytest.shape"
   ]
  },
  {
   "cell_type": "code",
   "execution_count": null,
   "metadata": {},
   "outputs": [],
   "source": [
    "clf_rbf_bien.gamma = "
   ]
  },
  {
   "cell_type": "code",
   "execution_count": 12,
   "metadata": {},
   "outputs": [
    {
     "data": {
      "text/plain": [
       "0.9016091954022989"
      ]
     },
     "execution_count": 12,
     "metadata": {},
     "output_type": "execute_result"
    },
    {
     "data": {
      "image/png": "[encoded data removed]",
      "text/plain": [
       "<Figure size 648x648 with 1 Axes>"
      ]
     },
     "metadata": {
      "needs_background": "light"
     },
     "output_type": "display_data"
    }
   ],
   "source": [
    "Ytest_pred = clf_rbf_optim.predict(Xtest)\n",
    "\n",
    "confmat = confusion_matrix(Ytest, Ytest_pred)\n",
    "fig, ax = plt.subplots(figsize=(9, 9))\n",
    "ax.matshow(confmat, cmap=plt.cm.Blues, alpha=0.5)\n",
    "\n",
    "for i in range(confmat.shape[0]):\n",
    "    for j in range(confmat.shape[1]):\n",
    "        ax.text(x=j, y=i, s=confmat[i, j], va=\"center\", ha=\"center\")\n",
    "        plt.xlabel(\"Prediction\"); plt.ylabel(\"Truth\");\n",
    "        \n",
    "acc_test = accuracy_score(Ytest, Ytest_pred)\n",
    "acc_test"
   ]
  },
  {
   "cell_type": "markdown",
   "metadata": {},
   "source": [
    "7. Inspiring from the previous questions, learn a linear SVM. It’s hyper-parameter must be\n",
    "selected using the grid search tool. Compare the obtained results to the non-linear SVM\n",
    "case."
   ]
  },
  {
   "cell_type": "code",
   "execution_count": 5,
   "metadata": {},
   "outputs": [],
   "source": [
    "from sklearn.model_selection import GridSearchCV\n",
    "from sklearn.svm import SVC\n",
    "\n",
    "gamma_grid = np.logspace(-3,1,25)\n",
    "C_grid = np.logspace(-1/2, 2, 25)\n",
    "\n",
    "parameters = [{\"C\": C_grid}]\n",
    "\n",
    "clf_linear = SVC(kernel=\"linear\", tol=0.01)\n",
    "\n",
    "K=3\n",
    "\n",
    "clf_linear = GridSearchCV(clf_linear, param_grid=parameters, cv=K, scoring=\"accuracy\", verbose=1, n_jobs=2)"
   ]
  },
  {
   "cell_type": "code",
   "execution_count": 6,
   "metadata": {},
   "outputs": [
    {
     "name": "stdout",
     "output_type": "stream",
     "text": [
      "Fitting 3 folds for each of 25 candidates, totalling 75 fits\n"
     ]
    },
    {
     "data": {
      "text/plain": [
       "GridSearchCV(cv=3, estimator=SVC(kernel='linear', tol=0.01), n_jobs=2,\n",
       "             param_grid=[{'C': array([  0.31622777,   0.40194503,   0.51089698,   0.64938163,\n",
       "         0.82540419,   1.04913973,   1.33352143,   1.69498815,\n",
       "         2.15443469,   2.73841963,   3.48070059,   4.42418555,\n",
       "         5.62341325,   7.14770577,   9.08517576,  11.54781985,\n",
       "        14.67799268,  18.65663579,  23.71373706,  30.1416253 ,\n",
       "        38.3118685 ,  48.69675252,  61.89658189,  78.67438077,\n",
       "       100.        ])}],\n",
       "             scoring='accuracy', verbose=1)"
      ]
     },
     "execution_count": 6,
     "metadata": {},
     "output_type": "execute_result"
    }
   ],
   "source": [
    "clf_linear.fit(X,Y)"
   ]
  },
  {
   "cell_type": "code",
   "execution_count": 7,
   "metadata": {},
   "outputs": [
    {
     "name": "stdout",
     "output_type": "stream",
     "text": [
      "\n",
      " Linear kernel - optimal hyper-parameters = {'C': 0.4019450333615125}\n",
      "\n",
      " Linear kernel - best cross-val accuracy = 0.7840355325385265\n"
     ]
    }
   ],
   "source": [
    "# Get the best parameters\n",
    "print(\"\\n Linear kernel - optimal hyper-parameters = {}\".format(clf_linear.best_params_))\n",
    "print(\"\\n Linear kernel - best cross-val accuracy = {}\".format(clf_linear.best_score_))"
   ]
  },
  {
   "cell_type": "code",
   "execution_count": 8,
   "metadata": {},
   "outputs": [
    {
     "data": {
      "text/plain": [
       "SVC(C=0.4019450333615125, kernel='linear')"
      ]
     },
     "execution_count": 8,
     "metadata": {},
     "output_type": "execute_result"
    }
   ],
   "source": [
    "# define a linear SVM with C = 1\n",
    "C = clf_linear.best_params_['C']\n",
    "clf_svm = SVC(kernel=\"linear\", C = C) # we seek a linear svm (kernel =\"linear\")\n",
    "# fit the parameters of the model\n",
    "clf_svm.fit(X, Y)"
   ]
  },
  {
   "cell_type": "code",
   "execution_count": 13,
   "metadata": {},
   "outputs": [
    {
     "data": {
      "image/png": "[encoded data removed]",
      "text/plain": [
       "<Figure size 648x648 with 1 Axes>"
      ]
     },
     "metadata": {
      "needs_background": "light"
     },
     "output_type": "display_data"
    }
   ],
   "source": [
    "import matplotlib.pyplot as plt\n",
    "\n",
    "\n",
    "Ytest_pred2 = clf_svm.predict(Xtest)\n",
    "confmat2 = confusion_matrix(Ytest, Ytest_pred2 )\n",
    "fig, ax = plt.subplots(figsize=(9, 9))\n",
    "ax.matshow(confmat2, cmap=plt.cm.Blues, alpha=0.5)\n",
    "for i in range(confmat2.shape[0]):\n",
    "    for j in range(confmat2.shape[1]):\n",
    "        ax.text(x=j, y=i, s=confmat2[i, j], va=\"center\", ha=\"center\")\n",
    "\n",
    "plt.xlabel(\"Prediction\"); plt.ylabel(\"Truth\");"
   ]
  },
  {
   "cell_type": "code",
   "execution_count": 14,
   "metadata": {},
   "outputs": [
    {
     "data": {
      "text/plain": [
       "0.8473563218390805"
      ]
     },
     "execution_count": 14,
     "metadata": {},
     "output_type": "execute_result"
    }
   ],
   "source": [
    "accuracy2 = (confmat2[0,0] + confmat2[1,1])/2175\n",
    "accuracy2"
   ]
  },
  {
   "cell_type": "code",
   "execution_count": null,
   "metadata": {},
   "outputs": [],
   "source": []
  }
 ],
 "metadata": {
  "kernelspec": {
   "display_name": "Python 3",
   "language": "python",
   "name": "python3"
  },
  "language_info": {
   "codemirror_mode": {
    "name": "ipython",
    "version": 3
   },
   "file_extension": ".py",
   "mimetype": "text/x-python",
   "name": "python",
   "nbconvert_exporter": "python",
   "pygments_lexer": "ipython3",
   "version": "3.8.5"
  }
 },
 "nbformat": 4,
 "nbformat_minor": 4
}
